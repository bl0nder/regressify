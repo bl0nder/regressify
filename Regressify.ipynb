{
  "nbformat": 4,
  "nbformat_minor": 0,
  "metadata": {
    "colab": {
      "provenance": []
    },
    "kernelspec": {
      "name": "python3",
      "display_name": "Python 3"
    },
    "language_info": {
      "name": "python"
    }
  },
  "cells": [
    {
      "cell_type": "code",
      "source": [
        "from google.colab import drive\n",
        "drive.mount('/content/drive')"
      ],
      "metadata": {
        "colab": {
          "base_uri": "https://localhost:8080/"
        },
        "id": "1XE16wHdBaYx",
        "outputId": "40f50c57-c235-4bb9-a231-dedcdb5dd4d4"
      },
      "execution_count": 2,
      "outputs": [
        {
          "output_type": "stream",
          "name": "stdout",
          "text": [
            "Mounted at /content/drive\n"
          ]
        }
      ]
    },
    {
      "cell_type": "code",
      "source": [
        "import pandas as pd\n",
        "import numpy as np\n",
        "import seaborn as sns\n",
        "import matplotlib.pyplot as plt\n",
        "sns.set_theme(style=\"darkgrid\")"
      ],
      "metadata": {
        "id": "ammvmhd9BfYn"
      },
      "execution_count": 3,
      "outputs": []
    },
    {
      "cell_type": "code",
      "execution_count": 4,
      "metadata": {
        "id": "CeGxVgMXBV5S"
      },
      "outputs": [],
      "source": [
        "#Importing dataset\n",
        "df = pd.read_csv('/content/drive/MyDrive/SML_A3/mt.csv')"
      ]
    },
    {
      "cell_type": "markdown",
      "source": [
        "# Helper functions"
      ],
      "metadata": {
        "id": "el2ueF3ddi-4"
      }
    },
    {
      "cell_type": "code",
      "source": [
        "#Normalising data\n",
        "def normalise(x_train, x_val):\n",
        "\n",
        "  #Calculating mean and std deviation of training data\n",
        "  x_std = np.std(x_train, axis=0)\n",
        "  x_mean = np.mean(x_train, axis=0)\n",
        "\n",
        "  #Normalise training and val datasets using calculated mean and std deviation\n",
        "  x_train = (x_train - x_mean)/x_std\n",
        "  x_val = (x_val - x_mean)/x_std\n",
        "\n",
        "  return x_train, x_val"
      ],
      "metadata": {
        "id": "0jOKm1yOBi4X"
      },
      "execution_count": 5,
      "outputs": []
    },
    {
      "cell_type": "code",
      "source": [
        "#R2 score tells us how well regression is being performed\n",
        "def r2_score(pred, target):\n",
        "  mse = np.mean(np.square(pred - target))\n",
        "  var = np.mean(np.square(target - np.mean(target)))\n",
        "  r2 = 1-(mse/var)\n",
        "\n",
        "  return r2"
      ],
      "metadata": {
        "id": "vhZwk4UrdlfP"
      },
      "execution_count": 6,
      "outputs": []
    },
    {
      "cell_type": "code",
      "source": [
        "#Computing accuracy of classification as proportion of correctly classified samples\n",
        "def classification_accuracy(pred, target):\n",
        "  return 1 - (np.sum(abs(pred - target))/len(target))"
      ],
      "metadata": {
        "id": "ib0BS_4MeDWM"
      },
      "execution_count": 7,
      "outputs": []
    },
    {
      "cell_type": "code",
      "source": [
        "x = df.drop(['T1', 'T2'], axis=1) #Matrix with samples (2 features per sample)\n",
        "y_class = df['T1']  #Classification labels\n",
        "y_reg = df['T2']  #Numerical output (for regression)\n",
        "\n",
        "#Index denoting 80% of entire dataset\n",
        "ind = int(0.8*x.shape[0])\n",
        "\n",
        "#Splitting dataset about 80% mark to get 80/20 training/validation split\n",
        "x_train = x[0:ind].to_numpy()\n",
        "x_val = x[ind:].to_numpy()\n",
        "\n",
        "#Normalising training and validation datasets\n",
        "x_train, x_val = normalise(x_train, x_val)\n",
        "\n",
        "#Classification labels converted from 1,2 to 1,0 by subtracting 1 from each of them (easier to work with)\n",
        "y_class_train = y_class[0:ind].to_numpy() - 1\n",
        "y_class_val = y_class[ind:].to_numpy() - 1\n",
        "\n",
        "y_reg_train = y_reg[0:ind].to_numpy()\n",
        "y_reg_val = y_reg[ind:].to_numpy()"
      ],
      "metadata": {
        "id": "jOErhCs_Bkgl"
      },
      "execution_count": 8,
      "outputs": []
    },
    {
      "cell_type": "code",
      "source": [
        "class NeuralNetwork:\n",
        "\n",
        "  #Initialise hyperparameters, cache dictionaries\n",
        "  def __init__(self,  max_iterations, num_layers, num_neurons, layer_activation_fns, alpha=0.001, threshold=0.001):\n",
        "    self.alpha = alpha\n",
        "    self.threshold = threshold\n",
        "    self.max_iterations = max_iterations\n",
        "    self.num_layers = num_layers\n",
        "    self.layer_activation_fns = layer_activation_fns\n",
        "    self.num_neurons = num_neurons\n",
        "\n",
        "    assert len(layer_activation_fns) == num_layers - 1, f\"Exactly {num_layers - 1} activation functions must be passed\"\n",
        "\n",
        "    self.weights = {}\n",
        "    self.Z = {}\n",
        "    self.layer_outputs = {}\n",
        "    self.pred_layer_outputs = {}\n",
        "    self.dA = {}\n",
        "    self.dZ = {}\n",
        "    self.cost = []\n",
        "    self.cost_class = []\n",
        "    self.cost_reg = []\n",
        "\n",
        "  #Method to fit training data to NN\n",
        "  def fit(self, x, y_class, y_reg):\n",
        "\n",
        "    #Initialise parameters W and b\n",
        "    for i in range(1,self.num_layers+1):\n",
        "      self.weights[\"W\" + str(i)] = np.ones((self.num_neurons[i], self.num_neurons[i-1]))\n",
        "      self.weights[\"b\" + str(i)] = np.zeros((self.num_neurons[i], 1))\n",
        "\n",
        "    #Iteration counter (used for telling if max iterations reached or not)\n",
        "    iterations = 0\n",
        "\n",
        "    while True:\n",
        "      iterations += 1\n",
        "\n",
        "      #A0 = Input matrix\n",
        "      self.layer_outputs[\"A0\"] = x\n",
        "      self.forwardPropagation(x,y_class,y_reg)  #Make a prediction according to current parameters W and b\n",
        "      self.backwardPropagation(x,y_class,y_reg) #Update W and b according to prediction error\n",
        "\n",
        "      #Stop if difference between 2 consecutive costs is less than threshold\n",
        "      if (len(self.cost) > 2 and abs(self.cost[-1] - self.cost[-2]) < self.threshold):\n",
        "        break\n",
        "\n",
        "      #Stop if max iterations reached\n",
        "      if (iterations >= self.max_iterations):\n",
        "        break\n",
        "\n",
        "    #Return prediction matrix (A3)\n",
        "    return self.layer_outputs[\"A\" + str(self.num_layers)]\n",
        "\n",
        "  def predict(self, x):\n",
        "\n",
        "    #A0 = Input matrix\n",
        "    self.pred_layer_outputs[\"A0\"] = x\n",
        "\n",
        "    #For each NN layer l,\n",
        "    #Z[l] = W[l]A[l-1] + b[l]\n",
        "    #A[l] = g[l](Z[l])\n",
        "    for i in range(1, self.num_layers+1):\n",
        "      Z = self.weights[\"W\"+str(i)] @ self.pred_layer_outputs[\"A\"+str(i-1)] + self.weights[\"b\"+str(i)]\n",
        "\n",
        "      #Last layer activation (not input by user)\n",
        "      if (i == self.num_layers):\n",
        "        A = self.ll_activation(Z)\n",
        "\n",
        "      else:\n",
        "        #Tanh activation\n",
        "        if (self.layer_activation_fns[i-1] == \"tanh\"):\n",
        "          A = self.tanh(Z)\n",
        "\n",
        "        #Sigmoid activation\n",
        "        elif (self.layer_activation_fns[i-1] == \"sigmoid\"):\n",
        "          A = self.sigmoid(Z)\n",
        "\n",
        "      self.pred_layer_outputs[\"A\" + str(i)] = A #Cache A[l]\n",
        "\n",
        "    #Return prediction matrix, i.e, output of last layer = A3\n",
        "    return self.pred_layer_outputs[\"A\" + str(self.num_layers)]\n",
        "\n",
        "  #Sigmoid activation\n",
        "  def sigmoid(self, x):\n",
        "    return np.reciprocal(1+np.exp(-x))\n",
        "\n",
        "  #Tanh activation\n",
        "  def tanh(self, x):\n",
        "    return np.tanh(x)\n",
        "\n",
        "  #Activation function for last layer\n",
        "  def ll_activation(self, x):\n",
        "\n",
        "    #classification -> Sigmoid activation @ last layer (Values correspond to probabilities and are thus, bounded between 0 and 1)\n",
        "    #regression -> Linear activaton @ last layer (Values not bounded)\n",
        "    r1 = self.sigmoid(x[0,:]).reshape(1,-1)\n",
        "    r2 = x[1,:].reshape(1,-1)\n",
        "\n",
        "    x_new = np.concatenate([r1, r2], axis=0)  #Matrix with activation functions applied to data\n",
        "    return x_new\n",
        "\n",
        "  #Function to compute prediction cost\n",
        "  def compute_cost(self, A, y_class, y_reg):\n",
        "\n",
        "    #1st row of A3 -> classification output\n",
        "    #2nd row of A3 -> regression output\n",
        "    yhat_class = A[0,:]\n",
        "    yhat_reg = A[1,:]\n",
        "\n",
        "    cost_class = -(y_class*np.log(yhat_class) + (1-y_class)*np.log(1-yhat_class)) #Log loss for classification\n",
        "    cost_reg = (1/2)*np.square(y_reg-yhat_reg)  #MSE for regression\n",
        "\n",
        "    self.cost.append(np.mean(cost_class) + np.mean(cost_reg)) #total cost = mean classification cost + mean regression cost\n",
        "    self.cost_class.append(np.mean(cost_class))\n",
        "    self.cost_reg.append(np.mean(cost_reg))\n",
        "\n",
        "    #Return cost matrix\n",
        "    A_new = np.concatenate([cost_class, cost_reg], axis=0)\n",
        "    return A_new\n",
        "\n",
        "  def forwardPropagation(self, x, y_class, y_reg):\n",
        "    yhat_class = 0\n",
        "    yhat_reg = 0\n",
        "\n",
        "    #For each NN layer l,\n",
        "    #Z[l] = W[l]A[l-1] + b[l]\n",
        "    #A[l] = g[l](Z[l])\n",
        "    for i in range(1, self.num_layers+1):\n",
        "\n",
        "      #Calcualting Z\n",
        "      Z = self.weights[\"W\"+str(i)] @ self.layer_outputs[\"A\"+str(i-1)] + self.weights[\"b\"+str(i)]\n",
        "      self.Z[\"Z\" + str(i)] = Z\n",
        "\n",
        "      #Calculating A according to current layer (activation function different for different layers)\n",
        "      if (i == self.num_layers):\n",
        "        A = self.ll_activation(Z)\n",
        "        self.layer_outputs[\"A\" + str(i)] = A\n",
        "\n",
        "      else:\n",
        "\n",
        "        if (self.layer_activation_fns[i-1] == \"tanh\"):\n",
        "          A = self.tanh(Z)\n",
        "\n",
        "        elif (self.layer_activation_fns[i-1] == \"sigmoid\"):\n",
        "          A = self.sigmoid(Z)\n",
        "\n",
        "        self.layer_outputs[\"A\" + str(i)] = A\n",
        "\n",
        "\n",
        "    #Compute prediction cost and store in cost array\n",
        "    self.compute_cost(self.layer_outputs[\"A\" + str(self.num_layers)], y_class, y_reg)\n",
        "\n",
        "  #Update parameters W and b\n",
        "  def backwardPropagation(self, x, y_class, y_reg):\n",
        "\n",
        "    #Split output into classification and regression outputs\n",
        "    A_ll = self.layer_outputs[\"A\" + str(self.num_layers)]\n",
        "    yhat_class = A_ll[0, :].reshape(1,-1)\n",
        "    yhat_reg = A_ll[1, :].reshape(1,-1)\n",
        "\n",
        "    #Derivative of log loss\n",
        "    dA_ll_logloss = -(y_class/yhat_class) + ((1-y_class)/(1 - yhat_class))\n",
        "\n",
        "    #Derivative of mse\n",
        "    dA_ll_mse = yhat_reg - y_reg\n",
        "    dA_ll = np.concatenate([dA_ll_logloss, dA_ll_mse], axis=0)\n",
        "    self.dA[\"dA\" + str(self.num_layers)] = dA_ll\n",
        "\n",
        "    for i in range(self.num_layers, 0, -1):\n",
        "\n",
        "      if (i==self.num_layers):\n",
        "        #Layer 3\n",
        "        g_ll_diff_class = (yhat_class*(1-yhat_class)).reshape(1,-1)  #Derivate of sigmoid(Z3) = A3(1-A3) = yhat(1-yhat)\n",
        "        g_ll_diff_reg = np.ones(yhat_reg.shape).reshape(1,-1)  #Derivative of linear function is 1\n",
        "        self.dZ[\"dZ\" + str(i)] = dA_ll * np.concatenate([g_ll_diff_class, g_ll_diff_reg], axis=0)\n",
        "\n",
        "      else:\n",
        "\n",
        "        if (self.layer_activation_fns[i-1] == \"sigmoid\"):\n",
        "          g_diff = self.layer_outputs[\"A\" + str(i)] * (1-self.layer_outputs[\"A\" + str(i)])\n",
        "          self.dZ[\"dZ\" + str(i)] = (self.weights[\"W\" + str(i+1)].T @ self.dZ[\"dZ\" + str(i+1)]) * (g_diff)\n",
        "\n",
        "        elif (self.layer_activation_fns[i-1] == \"tanh\"):\n",
        "          g_diff = 1-np.square(self.tanh(self.Z[\"Z\" + str(i)]))\n",
        "          self.dZ[\"dZ\" + str(i)] = (self.weights[\"W\" + str(i+1)].T @ self.dZ[\"dZ\" + str(i+1)]) * (g_diff)\n",
        "\n",
        "      dZ = self.dZ[\"dZ\" + str(i)]\n",
        "      dW = (dZ @ self.layer_outputs[\"A\" + str(i-1)].T)\n",
        "      db = np.sum(dZ, axis=1, keepdims=True)\n",
        "      self.weights[\"W\" + str(i)] -= self.alpha*dW\n",
        "      self.weights[\"b\" + str(i)] -= self.alpha*db"
      ],
      "metadata": {
        "id": "SnYLSKpDBmBu"
      },
      "execution_count": 9,
      "outputs": []
    },
    {
      "cell_type": "code",
      "source": [
        "#Hyperparameters\n",
        "max_iterations = 500\n",
        "learning_rate = 0.001\n",
        "threshold = 0.001\n",
        "num_layers = 3  # Does not include input layer\n",
        "num_neurons = [2,4,4,2] #Number of neurons in each layer order-wise\n",
        "layer_activation_fns = [\"tanh\", \"sigmoid\"]  #Activation function of each hidden layer in order"
      ],
      "metadata": {
        "id": "z2rAckHPDCkd"
      },
      "execution_count": 19,
      "outputs": []
    },
    {
      "cell_type": "code",
      "source": [
        "#Create instance of neural network, fit with training data and make predictions using validation data\n",
        "nn = NeuralNetwork(max_iterations, num_layers, num_neurons, layer_activation_fns, alpha=learning_rate, threshold=threshold)\n",
        "y_pred_train = nn.fit(x_train.T, y_class_train.reshape(1,-1), y_reg_train.reshape(1,-1))\n",
        "y_pred_val = nn.predict(x_val.T)\n",
        "\n",
        "#Split regression and classification predictions - training\n",
        "y_pred_train_class = (y_pred_train[0,:] >= 0.5).astype(int)\n",
        "y_pred_train_reg = y_pred_train[1,:]\n",
        "\n",
        "#Split regression and classification predictions - validation\n",
        "y_pred_val_class = (y_pred_val[0,:] >= 0.5).astype(int)\n",
        "y_pred_val_reg = y_pred_val[1,:]\n",
        "\n",
        "#Training Accuracy\n",
        "accuracy_train_class = classification_accuracy(y_pred_train_class, y_class_train)\n",
        "r2_train = r2_score(y_pred_train_reg, y_reg_train)\n",
        "\n",
        "print(\"Training accuracy for classification:\", accuracy_train_class)\n",
        "print(\"Training R2 score for regression:\", r2_train)\n",
        "\n",
        "#Validation Accuracy\n",
        "accuracy_val_class = classification_accuracy(y_pred_val_class, y_class_val)\n",
        "r2_val = r2_score(y_pred_val_reg, y_reg_val)\n",
        "\n",
        "print(\"Validation accuracy for classification:\", accuracy_val_class)\n",
        "print(\"Validation R2 score for regression:\", r2_val)"
      ],
      "metadata": {
        "colab": {
          "base_uri": "https://localhost:8080/"
        },
        "id": "w3l2yZhwBoAk",
        "outputId": "2fea5437-ec49-4592-fd47-9f28db70bb76"
      },
      "execution_count": 20,
      "outputs": [
        {
          "output_type": "stream",
          "name": "stdout",
          "text": [
            "Training accuracy for classification: 0.975\n",
            "Training R2 score for regression: 0.9712041992163881\n",
            "Validation accuracy for classification: 1.0\n",
            "Validation R2 score for regression: 0.723742056420074\n"
          ]
        }
      ]
    },
    {
      "cell_type": "code",
      "source": [
        "plt.figure(figsize=(7,7))\n",
        "#Visualising overall cost trend\n",
        "overall_cost = {\n",
        "'Number of iterations' : np.arange(1, len(nn.cost) + 1),\n",
        "'Cost' : np.array(nn.cost)\n",
        "}\n",
        "overall_cost_df = pd.DataFrame(overall_cost)\n",
        "sns.lineplot(data=overall_cost_df, x='Number of iterations', y='Cost', label='Overall cost')\n",
        "\n",
        "#Visualising regression-only cost\n",
        "cost_reg = {\n",
        "    'Number of iterations' : np.arange(1, len(nn.cost_reg) + 1),\n",
        "    'Cost' : np.array(nn.cost_reg)\n",
        "}\n",
        "cost_reg_df = pd.DataFrame(cost_reg)\n",
        "sns.lineplot(data=cost_reg_df, x='Number of iterations', y='Cost', label='Regression-only cost')\n",
        "\n",
        "#visualising classification-only cost\n",
        "cost_class = {\n",
        "    'Number of iterations' : np.arange(1, len(nn.cost_class) + 1),\n",
        "    'Cost' : np.array(nn.cost_class)\n",
        "}\n",
        "cost_class_df = pd.DataFrame(cost_class)\n",
        "sns.lineplot(data=cost_class_df, x='Number of iterations', y='Cost', label='Classification-only cost')\n",
        "\n",
        "plt.legend()"
      ],
      "metadata": {
        "colab": {
          "base_uri": "https://localhost:8080/",
          "height": 645
        },
        "id": "jhzLLq-3YP7t",
        "outputId": "f72d3b3e-8258-41a2-b642-46fbd1299e9d"
      },
      "execution_count": 21,
      "outputs": [
        {
          "output_type": "execute_result",
          "data": {
            "text/plain": [
              "<matplotlib.legend.Legend at 0x7fe38efa1330>"
            ]
          },
          "metadata": {},
          "execution_count": 21
        },
        {
          "output_type": "display_data",
          "data": {
            "text/plain": [
              "<Figure size 700x700 with 1 Axes>"
            ],
            "image/png": "[encoded data removed]"
          },
          "metadata": {}
        }
      ]
    }
  ]
}